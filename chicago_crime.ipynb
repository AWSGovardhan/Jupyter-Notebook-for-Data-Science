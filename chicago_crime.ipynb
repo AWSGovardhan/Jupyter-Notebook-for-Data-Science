{
 "cells": [
  {
   "cell_type": "markdown",
   "metadata": {},
   "source": [
    "# Chicago crime\n",
    "\n",
    "This dataset reflects reported incidents of crime (with the exception of murders where data exists for each victim) that occurred in the City of Chicago from 2001 to present. Source – [Chicago Data Portal](https://data.cityofchicago.org/Public-Safety/Crimes-2001-to-present-Dashboard/5cd6-ry5g)\n",
    "\n",
    "On this dataset we'll showcase some Pandas features, but for a more complete reference, please keep the [Pandas documentation](https://pandas.pydata.org/pandas-docs/stable/index.html) bookmarked."
   ]
  },
  {
   "cell_type": "code",
   "execution_count": 1,
   "metadata": {},
   "outputs": [],
   "source": [
    "%matplotlib inline\n",
    "\n",
    "import pandas as pd\n",
    "import numpy as np"
   ]
  },
  {
   "cell_type": "markdown",
   "metadata": {},
   "source": [
    "## Read the data\n",
    "\n",
    "The dataset is pretty large…"
   ]
  },
  {
   "cell_type": "code",
   "execution_count": 2,
   "metadata": {},
   "outputs": [
    {
     "name": "stdout",
     "output_type": "stream",
     "text": [
      "total 1.5G\r\n",
      "-rw-r--r-- 1 jovyan users 1.5G Apr 16 18:55 Crimes_-_2001_to_present.csv\r\n",
      "-rw-r--r-- 1 jovyan users 2.3K Apr 16 20:03 Crimes_-_2001_to_present-small.csv\r\n"
     ]
    }
   ],
   "source": [
    "ls -hl data/chicago_crime/"
   ]
  },
  {
   "cell_type": "markdown",
   "metadata": {},
   "source": [
    "Let's see what the CSV file looks like…"
   ]
  },
  {
   "cell_type": "code",
   "execution_count": 3,
   "metadata": {},
   "outputs": [
    {
     "name": "stdout",
     "output_type": "stream",
     "text": [
      "ID,Case Number,Date,Block,IUCR,Primary Type,Description,Location Description,Arrest,Domestic,Beat,District,Ward,Community Area,FBI Code,X Coordinate,Y Coordinate,Year,Updated On,Latitude,Longitude,Location\n",
      "\n",
      "10000092,HY189866,03/18/2015 07:44:00 PM,047XX W OHIO ST,041A,BATTERY,AGGRAVATED: HANDGUN,STREET,false,false,1111,011,28,25,04B,1144606,1903566,2015,02/10/2018 03:50:01 PM,41.891398861,-87.744384567,\"(41.891398861, -87.744384567)\"\n"
     ]
    }
   ],
   "source": [
    "# Python variables work with bash commands \\o/\n",
    "file_path = 'data/chicago_crime/Crimes_-_2001_to_present.csv'\n",
    "\n",
    "# first line\n",
    "!head $file_path -n 1\n",
    "\n",
    "!echo\n",
    "\n",
    "# second line\n",
    "!head $file_path -n 2 | tail -n 1"
   ]
  },
  {
   "cell_type": "markdown",
   "metadata": {},
   "source": [
    "As the file size is pretty big, let's first create a subset to iterate more quickly."
   ]
  },
  {
   "cell_type": "code",
   "execution_count": 4,
   "metadata": {},
   "outputs": [],
   "source": [
    "file_path_small = 'data/chicago_crime/Crimes_-_2001_to_present-small.csv'\n",
    "\n",
    "!head $file_path > $file_path_small"
   ]
  },
  {
   "cell_type": "markdown",
   "metadata": {},
   "source": [
    "Use the allmighty `pd.read_csv` function"
   ]
  },
  {
   "cell_type": "code",
   "execution_count": 5,
   "metadata": {},
   "outputs": [
    {
     "data": {
      "text/html": [
       "<div>\n",
       "<table border=\"1\" class=\"dataframe\">\n",
       "  <thead>\n",
       "    <tr style=\"text-align: right;\">\n",
       "      <th></th>\n",
       "      <th>ID</th>\n",
       "      <th>Case Number</th>\n",
       "      <th>Block</th>\n",
       "      <th>IUCR</th>\n",
       "      <th>Primary Type</th>\n",
       "      <th>Description</th>\n",
       "      <th>Location Description</th>\n",
       "      <th>Arrest</th>\n",
       "      <th>Domestic</th>\n",
       "      <th>Beat</th>\n",
       "      <th>...</th>\n",
       "      <th>Ward</th>\n",
       "      <th>Community Area</th>\n",
       "      <th>FBI Code</th>\n",
       "      <th>X Coordinate</th>\n",
       "      <th>Y Coordinate</th>\n",
       "      <th>Year</th>\n",
       "      <th>Updated On</th>\n",
       "      <th>Latitude</th>\n",
       "      <th>Longitude</th>\n",
       "      <th>Location</th>\n",
       "    </tr>\n",
       "    <tr>\n",
       "      <th>Date</th>\n",
       "      <th></th>\n",
       "      <th></th>\n",
       "      <th></th>\n",
       "      <th></th>\n",
       "      <th></th>\n",
       "      <th></th>\n",
       "      <th></th>\n",
       "      <th></th>\n",
       "      <th></th>\n",
       "      <th></th>\n",
       "      <th></th>\n",
       "      <th></th>\n",
       "      <th></th>\n",
       "      <th></th>\n",
       "      <th></th>\n",
       "      <th></th>\n",
       "      <th></th>\n",
       "      <th></th>\n",
       "      <th></th>\n",
       "      <th></th>\n",
       "      <th></th>\n",
       "    </tr>\n",
       "  </thead>\n",
       "  <tbody>\n",
       "    <tr>\n",
       "      <th>2015-03-18 19:44:00</th>\n",
       "      <td>10000092</td>\n",
       "      <td>HY189866</td>\n",
       "      <td>047XX W OHIO ST</td>\n",
       "      <td>041A</td>\n",
       "      <td>BATTERY</td>\n",
       "      <td>AGGRAVATED: HANDGUN</td>\n",
       "      <td>STREET</td>\n",
       "      <td>False</td>\n",
       "      <td>False</td>\n",
       "      <td>1111</td>\n",
       "      <td>...</td>\n",
       "      <td>28</td>\n",
       "      <td>25</td>\n",
       "      <td>04B</td>\n",
       "      <td>1144606</td>\n",
       "      <td>1903566</td>\n",
       "      <td>2015</td>\n",
       "      <td>02/10/2018 03:50:01 PM</td>\n",
       "      <td>41.891399</td>\n",
       "      <td>-87.744385</td>\n",
       "      <td>(41.891398861, -87.744384567)</td>\n",
       "    </tr>\n",
       "    <tr>\n",
       "      <th>2015-03-18 23:00:00</th>\n",
       "      <td>10000094</td>\n",
       "      <td>HY190059</td>\n",
       "      <td>066XX S MARSHFIELD AVE</td>\n",
       "      <td>4625</td>\n",
       "      <td>OTHER OFFENSE</td>\n",
       "      <td>PAROLE VIOLATION</td>\n",
       "      <td>STREET</td>\n",
       "      <td>True</td>\n",
       "      <td>False</td>\n",
       "      <td>725</td>\n",
       "      <td>...</td>\n",
       "      <td>15</td>\n",
       "      <td>67</td>\n",
       "      <td>26</td>\n",
       "      <td>1166468</td>\n",
       "      <td>1860715</td>\n",
       "      <td>2015</td>\n",
       "      <td>02/10/2018 03:50:01 PM</td>\n",
       "      <td>41.773372</td>\n",
       "      <td>-87.665319</td>\n",
       "      <td>(41.773371528, -87.665319468)</td>\n",
       "    </tr>\n",
       "    <tr>\n",
       "      <th>2015-03-18 22:45:00</th>\n",
       "      <td>10000095</td>\n",
       "      <td>HY190052</td>\n",
       "      <td>044XX S LAKE PARK AVE</td>\n",
       "      <td>0486</td>\n",
       "      <td>BATTERY</td>\n",
       "      <td>DOMESTIC BATTERY SIMPLE</td>\n",
       "      <td>APARTMENT</td>\n",
       "      <td>False</td>\n",
       "      <td>True</td>\n",
       "      <td>222</td>\n",
       "      <td>...</td>\n",
       "      <td>4</td>\n",
       "      <td>39</td>\n",
       "      <td>08B</td>\n",
       "      <td>1185075</td>\n",
       "      <td>1875622</td>\n",
       "      <td>2015</td>\n",
       "      <td>02/10/2018 03:50:01 PM</td>\n",
       "      <td>41.813861</td>\n",
       "      <td>-87.596643</td>\n",
       "      <td>(41.81386068, -87.596642837)</td>\n",
       "    </tr>\n",
       "    <tr>\n",
       "      <th>2015-03-18 22:30:00</th>\n",
       "      <td>10000096</td>\n",
       "      <td>HY190054</td>\n",
       "      <td>051XX S MICHIGAN AVE</td>\n",
       "      <td>0460</td>\n",
       "      <td>BATTERY</td>\n",
       "      <td>SIMPLE</td>\n",
       "      <td>APARTMENT</td>\n",
       "      <td>False</td>\n",
       "      <td>False</td>\n",
       "      <td>225</td>\n",
       "      <td>...</td>\n",
       "      <td>3</td>\n",
       "      <td>40</td>\n",
       "      <td>08B</td>\n",
       "      <td>1178033</td>\n",
       "      <td>1870804</td>\n",
       "      <td>2015</td>\n",
       "      <td>02/10/2018 03:50:01 PM</td>\n",
       "      <td>41.800802</td>\n",
       "      <td>-87.622619</td>\n",
       "      <td>(41.800802415, -87.622619343)</td>\n",
       "    </tr>\n",
       "    <tr>\n",
       "      <th>2015-03-18 21:00:00</th>\n",
       "      <td>10000097</td>\n",
       "      <td>HY189976</td>\n",
       "      <td>047XX W ADAMS ST</td>\n",
       "      <td>031A</td>\n",
       "      <td>ROBBERY</td>\n",
       "      <td>ARMED: HANDGUN</td>\n",
       "      <td>SIDEWALK</td>\n",
       "      <td>False</td>\n",
       "      <td>False</td>\n",
       "      <td>1113</td>\n",
       "      <td>...</td>\n",
       "      <td>28</td>\n",
       "      <td>25</td>\n",
       "      <td>03</td>\n",
       "      <td>1144920</td>\n",
       "      <td>1898709</td>\n",
       "      <td>2015</td>\n",
       "      <td>02/10/2018 03:50:01 PM</td>\n",
       "      <td>41.878065</td>\n",
       "      <td>-87.743354</td>\n",
       "      <td>(41.878064761, -87.743354013)</td>\n",
       "    </tr>\n",
       "    <tr>\n",
       "      <th>2015-03-18 22:00:00</th>\n",
       "      <td>10000098</td>\n",
       "      <td>HY190032</td>\n",
       "      <td>049XX S DREXEL BLVD</td>\n",
       "      <td>0460</td>\n",
       "      <td>BATTERY</td>\n",
       "      <td>SIMPLE</td>\n",
       "      <td>APARTMENT</td>\n",
       "      <td>False</td>\n",
       "      <td>False</td>\n",
       "      <td>223</td>\n",
       "      <td>...</td>\n",
       "      <td>4</td>\n",
       "      <td>39</td>\n",
       "      <td>08B</td>\n",
       "      <td>1183018</td>\n",
       "      <td>1872537</td>\n",
       "      <td>2015</td>\n",
       "      <td>02/10/2018 03:50:01 PM</td>\n",
       "      <td>41.805443</td>\n",
       "      <td>-87.604284</td>\n",
       "      <td>(41.805443345, -87.604283976)</td>\n",
       "    </tr>\n",
       "    <tr>\n",
       "      <th>2015-03-18 23:00:00</th>\n",
       "      <td>10000099</td>\n",
       "      <td>HY190047</td>\n",
       "      <td>070XX S MORGAN ST</td>\n",
       "      <td>0486</td>\n",
       "      <td>BATTERY</td>\n",
       "      <td>DOMESTIC BATTERY SIMPLE</td>\n",
       "      <td>APARTMENT</td>\n",
       "      <td>False</td>\n",
       "      <td>True</td>\n",
       "      <td>733</td>\n",
       "      <td>...</td>\n",
       "      <td>17</td>\n",
       "      <td>68</td>\n",
       "      <td>08B</td>\n",
       "      <td>1170859</td>\n",
       "      <td>1858210</td>\n",
       "      <td>2015</td>\n",
       "      <td>02/10/2018 03:50:01 PM</td>\n",
       "      <td>41.766403</td>\n",
       "      <td>-87.649296</td>\n",
       "      <td>(41.766402779, -87.649296123)</td>\n",
       "    </tr>\n",
       "    <tr>\n",
       "      <th>2015-03-18 21:35:00</th>\n",
       "      <td>10000100</td>\n",
       "      <td>HY189988</td>\n",
       "      <td>042XX S PRAIRIE AVE</td>\n",
       "      <td>0486</td>\n",
       "      <td>BATTERY</td>\n",
       "      <td>DOMESTIC BATTERY SIMPLE</td>\n",
       "      <td>APARTMENT</td>\n",
       "      <td>False</td>\n",
       "      <td>True</td>\n",
       "      <td>213</td>\n",
       "      <td>...</td>\n",
       "      <td>3</td>\n",
       "      <td>38</td>\n",
       "      <td>08B</td>\n",
       "      <td>1178746</td>\n",
       "      <td>1876914</td>\n",
       "      <td>2015</td>\n",
       "      <td>02/10/2018 03:50:01 PM</td>\n",
       "      <td>41.817553</td>\n",
       "      <td>-87.619819</td>\n",
       "      <td>(41.817552577, -87.619818523)</td>\n",
       "    </tr>\n",
       "    <tr>\n",
       "      <th>2015-03-18 22:09:00</th>\n",
       "      <td>10000101</td>\n",
       "      <td>HY190020</td>\n",
       "      <td>036XX S WOLCOTT AVE</td>\n",
       "      <td>1811</td>\n",
       "      <td>NARCOTICS</td>\n",
       "      <td>POSS: CANNABIS 30GMS OR LESS</td>\n",
       "      <td>STREET</td>\n",
       "      <td>True</td>\n",
       "      <td>False</td>\n",
       "      <td>912</td>\n",
       "      <td>...</td>\n",
       "      <td>11</td>\n",
       "      <td>59</td>\n",
       "      <td>18</td>\n",
       "      <td>1164279</td>\n",
       "      <td>1880656</td>\n",
       "      <td>2015</td>\n",
       "      <td>02/10/2018 03:50:01 PM</td>\n",
       "      <td>41.828138</td>\n",
       "      <td>-87.672782</td>\n",
       "      <td>(41.828138428, -87.672782106)</td>\n",
       "    </tr>\n",
       "  </tbody>\n",
       "</table>\n",
       "<p>9 rows × 21 columns</p>\n",
       "</div>"
      ],
      "text/plain": [
       "                           ID Case Number                   Block  IUCR  \\\n",
       "Date                                                                      \n",
       "2015-03-18 19:44:00  10000092    HY189866         047XX W OHIO ST  041A   \n",
       "2015-03-18 23:00:00  10000094    HY190059  066XX S MARSHFIELD AVE  4625   \n",
       "2015-03-18 22:45:00  10000095    HY190052   044XX S LAKE PARK AVE  0486   \n",
       "2015-03-18 22:30:00  10000096    HY190054    051XX S MICHIGAN AVE  0460   \n",
       "2015-03-18 21:00:00  10000097    HY189976        047XX W ADAMS ST  031A   \n",
       "2015-03-18 22:00:00  10000098    HY190032     049XX S DREXEL BLVD  0460   \n",
       "2015-03-18 23:00:00  10000099    HY190047       070XX S MORGAN ST  0486   \n",
       "2015-03-18 21:35:00  10000100    HY189988     042XX S PRAIRIE AVE  0486   \n",
       "2015-03-18 22:09:00  10000101    HY190020     036XX S WOLCOTT AVE  1811   \n",
       "\n",
       "                      Primary Type                   Description  \\\n",
       "Date                                                               \n",
       "2015-03-18 19:44:00        BATTERY           AGGRAVATED: HANDGUN   \n",
       "2015-03-18 23:00:00  OTHER OFFENSE              PAROLE VIOLATION   \n",
       "2015-03-18 22:45:00        BATTERY       DOMESTIC BATTERY SIMPLE   \n",
       "2015-03-18 22:30:00        BATTERY                        SIMPLE   \n",
       "2015-03-18 21:00:00        ROBBERY                ARMED: HANDGUN   \n",
       "2015-03-18 22:00:00        BATTERY                        SIMPLE   \n",
       "2015-03-18 23:00:00        BATTERY       DOMESTIC BATTERY SIMPLE   \n",
       "2015-03-18 21:35:00        BATTERY       DOMESTIC BATTERY SIMPLE   \n",
       "2015-03-18 22:09:00      NARCOTICS  POSS: CANNABIS 30GMS OR LESS   \n",
       "\n",
       "                    Location Description Arrest Domestic  Beat  \\\n",
       "Date                                                             \n",
       "2015-03-18 19:44:00               STREET  False    False  1111   \n",
       "2015-03-18 23:00:00               STREET   True    False   725   \n",
       "2015-03-18 22:45:00            APARTMENT  False     True   222   \n",
       "2015-03-18 22:30:00            APARTMENT  False    False   225   \n",
       "2015-03-18 21:00:00             SIDEWALK  False    False  1113   \n",
       "2015-03-18 22:00:00            APARTMENT  False    False   223   \n",
       "2015-03-18 23:00:00            APARTMENT  False     True   733   \n",
       "2015-03-18 21:35:00            APARTMENT  False     True   213   \n",
       "2015-03-18 22:09:00               STREET   True    False   912   \n",
       "\n",
       "                                 ...                Ward  Community Area  \\\n",
       "Date                             ...                                       \n",
       "2015-03-18 19:44:00              ...                  28              25   \n",
       "2015-03-18 23:00:00              ...                  15              67   \n",
       "2015-03-18 22:45:00              ...                   4              39   \n",
       "2015-03-18 22:30:00              ...                   3              40   \n",
       "2015-03-18 21:00:00              ...                  28              25   \n",
       "2015-03-18 22:00:00              ...                   4              39   \n",
       "2015-03-18 23:00:00              ...                  17              68   \n",
       "2015-03-18 21:35:00              ...                   3              38   \n",
       "2015-03-18 22:09:00              ...                  11              59   \n",
       "\n",
       "                     FBI Code X Coordinate  Y Coordinate  Year  \\\n",
       "Date                                                             \n",
       "2015-03-18 19:44:00       04B      1144606       1903566  2015   \n",
       "2015-03-18 23:00:00        26      1166468       1860715  2015   \n",
       "2015-03-18 22:45:00       08B      1185075       1875622  2015   \n",
       "2015-03-18 22:30:00       08B      1178033       1870804  2015   \n",
       "2015-03-18 21:00:00        03      1144920       1898709  2015   \n",
       "2015-03-18 22:00:00       08B      1183018       1872537  2015   \n",
       "2015-03-18 23:00:00       08B      1170859       1858210  2015   \n",
       "2015-03-18 21:35:00       08B      1178746       1876914  2015   \n",
       "2015-03-18 22:09:00        18      1164279       1880656  2015   \n",
       "\n",
       "                                 Updated On   Latitude  Longitude  \\\n",
       "Date                                                                \n",
       "2015-03-18 19:44:00  02/10/2018 03:50:01 PM  41.891399 -87.744385   \n",
       "2015-03-18 23:00:00  02/10/2018 03:50:01 PM  41.773372 -87.665319   \n",
       "2015-03-18 22:45:00  02/10/2018 03:50:01 PM  41.813861 -87.596643   \n",
       "2015-03-18 22:30:00  02/10/2018 03:50:01 PM  41.800802 -87.622619   \n",
       "2015-03-18 21:00:00  02/10/2018 03:50:01 PM  41.878065 -87.743354   \n",
       "2015-03-18 22:00:00  02/10/2018 03:50:01 PM  41.805443 -87.604284   \n",
       "2015-03-18 23:00:00  02/10/2018 03:50:01 PM  41.766403 -87.649296   \n",
       "2015-03-18 21:35:00  02/10/2018 03:50:01 PM  41.817553 -87.619819   \n",
       "2015-03-18 22:09:00  02/10/2018 03:50:01 PM  41.828138 -87.672782   \n",
       "\n",
       "                                          Location  \n",
       "Date                                                \n",
       "2015-03-18 19:44:00  (41.891398861, -87.744384567)  \n",
       "2015-03-18 23:00:00  (41.773371528, -87.665319468)  \n",
       "2015-03-18 22:45:00   (41.81386068, -87.596642837)  \n",
       "2015-03-18 22:30:00  (41.800802415, -87.622619343)  \n",
       "2015-03-18 21:00:00  (41.878064761, -87.743354013)  \n",
       "2015-03-18 22:00:00  (41.805443345, -87.604283976)  \n",
       "2015-03-18 23:00:00  (41.766402779, -87.649296123)  \n",
       "2015-03-18 21:35:00  (41.817552577, -87.619818523)  \n",
       "2015-03-18 22:09:00  (41.828138428, -87.672782106)  \n",
       "\n",
       "[9 rows x 21 columns]"
      ]
     },
     "execution_count": 5,
     "metadata": {},
     "output_type": "execute_result"
    }
   ],
   "source": [
    "crimes_small = pd.read_csv(file_path_small, parse_dates=[2], index_col=[2])\n",
    "crimes_small"
   ]
  },
  {
   "cell_type": "markdown",
   "metadata": {},
   "source": [
    "Excellent! Now let's run this on the big file…"
   ]
  },
  {
   "cell_type": "code",
   "execution_count": 68,
   "metadata": {},
   "outputs": [
    {
     "data": {
      "text/html": [
       "<div>\n",
       "<table border=\"1\" class=\"dataframe\">\n",
       "  <thead>\n",
       "    <tr style=\"text-align: right;\">\n",
       "      <th></th>\n",
       "      <th>ID</th>\n",
       "      <th>Case Number</th>\n",
       "      <th>Block</th>\n",
       "      <th>IUCR</th>\n",
       "      <th>Primary Type</th>\n",
       "      <th>Description</th>\n",
       "      <th>Location Description</th>\n",
       "      <th>Arrest</th>\n",
       "      <th>Domestic</th>\n",
       "      <th>Beat</th>\n",
       "      <th>...</th>\n",
       "      <th>Ward</th>\n",
       "      <th>Community Area</th>\n",
       "      <th>FBI Code</th>\n",
       "      <th>X Coordinate</th>\n",
       "      <th>Y Coordinate</th>\n",
       "      <th>Year</th>\n",
       "      <th>Updated On</th>\n",
       "      <th>Latitude</th>\n",
       "      <th>Longitude</th>\n",
       "      <th>Location</th>\n",
       "    </tr>\n",
       "    <tr>\n",
       "      <th>Date</th>\n",
       "      <th></th>\n",
       "      <th></th>\n",
       "      <th></th>\n",
       "      <th></th>\n",
       "      <th></th>\n",
       "      <th></th>\n",
       "      <th></th>\n",
       "      <th></th>\n",
       "      <th></th>\n",
       "      <th></th>\n",
       "      <th></th>\n",
       "      <th></th>\n",
       "      <th></th>\n",
       "      <th></th>\n",
       "      <th></th>\n",
       "      <th></th>\n",
       "      <th></th>\n",
       "      <th></th>\n",
       "      <th></th>\n",
       "      <th></th>\n",
       "      <th></th>\n",
       "    </tr>\n",
       "  </thead>\n",
       "  <tbody>\n",
       "    <tr>\n",
       "      <th>2004-05-05 23:55:00</th>\n",
       "      <td>3310029</td>\n",
       "      <td>HK345564</td>\n",
       "      <td>001XX S HALSTED ST</td>\n",
       "      <td>0860</td>\n",
       "      <td>THEFT</td>\n",
       "      <td>RETAIL THEFT</td>\n",
       "      <td>DRUG STORE</td>\n",
       "      <td>True</td>\n",
       "      <td>False</td>\n",
       "      <td>1213</td>\n",
       "      <td>...</td>\n",
       "      <td>27.0</td>\n",
       "      <td>28.0</td>\n",
       "      <td>06</td>\n",
       "      <td>1171070.0</td>\n",
       "      <td>1899648.0</td>\n",
       "      <td>2004</td>\n",
       "      <td>02/10/2018 03:50:01 PM</td>\n",
       "      <td>41.880108</td>\n",
       "      <td>-87.647310</td>\n",
       "      <td>(41.880108035, -87.647309981)</td>\n",
       "    </tr>\n",
       "    <tr>\n",
       "      <th>2004-05-05 21:00:00</th>\n",
       "      <td>3310033</td>\n",
       "      <td>HK345878</td>\n",
       "      <td>038XX W ARGYLE ST</td>\n",
       "      <td>1320</td>\n",
       "      <td>CRIMINAL DAMAGE</td>\n",
       "      <td>TO VEHICLE</td>\n",
       "      <td>STREET</td>\n",
       "      <td>False</td>\n",
       "      <td>False</td>\n",
       "      <td>1712</td>\n",
       "      <td>...</td>\n",
       "      <td>39.0</td>\n",
       "      <td>14.0</td>\n",
       "      <td>14</td>\n",
       "      <td>1150069.0</td>\n",
       "      <td>1932953.0</td>\n",
       "      <td>2004</td>\n",
       "      <td>02/10/2018 03:50:01 PM</td>\n",
       "      <td>41.971935</td>\n",
       "      <td>-87.723554</td>\n",
       "      <td>(41.971934656, -87.723553785)</td>\n",
       "    </tr>\n",
       "    <tr>\n",
       "      <th>2004-04-30 08:10:00</th>\n",
       "      <td>3310034</td>\n",
       "      <td>HK333841</td>\n",
       "      <td>003XX E 43RD ST</td>\n",
       "      <td>031A</td>\n",
       "      <td>ROBBERY</td>\n",
       "      <td>ARMED: HANDGUN</td>\n",
       "      <td>STREET</td>\n",
       "      <td>False</td>\n",
       "      <td>False</td>\n",
       "      <td>222</td>\n",
       "      <td>...</td>\n",
       "      <td>3.0</td>\n",
       "      <td>38.0</td>\n",
       "      <td>03</td>\n",
       "      <td>1178941.0</td>\n",
       "      <td>1876568.0</td>\n",
       "      <td>2004</td>\n",
       "      <td>02/10/2018 03:50:01 PM</td>\n",
       "      <td>41.816599</td>\n",
       "      <td>-87.619114</td>\n",
       "      <td>(41.816598679, -87.619113763)</td>\n",
       "    </tr>\n",
       "    <tr>\n",
       "      <th>2004-05-06 04:53:00</th>\n",
       "      <td>3310037</td>\n",
       "      <td>HK345694</td>\n",
       "      <td>026XX N HOYNE AVE</td>\n",
       "      <td>1320</td>\n",
       "      <td>CRIMINAL DAMAGE</td>\n",
       "      <td>TO VEHICLE</td>\n",
       "      <td>VEHICLE NON-COMMERCIAL</td>\n",
       "      <td>False</td>\n",
       "      <td>False</td>\n",
       "      <td>1913</td>\n",
       "      <td>...</td>\n",
       "      <td>1.0</td>\n",
       "      <td>7.0</td>\n",
       "      <td>14</td>\n",
       "      <td>1162363.0</td>\n",
       "      <td>1917641.0</td>\n",
       "      <td>2004</td>\n",
       "      <td>02/10/2018 03:50:01 PM</td>\n",
       "      <td>41.929669</td>\n",
       "      <td>-87.678777</td>\n",
       "      <td>(41.929668705, -87.678776837)</td>\n",
       "    </tr>\n",
       "    <tr>\n",
       "      <th>2004-05-05 16:20:00</th>\n",
       "      <td>3310040</td>\n",
       "      <td>HK344741</td>\n",
       "      <td>049XX S HERMITAGE AVE</td>\n",
       "      <td>0460</td>\n",
       "      <td>BATTERY</td>\n",
       "      <td>SIMPLE</td>\n",
       "      <td>APARTMENT</td>\n",
       "      <td>False</td>\n",
       "      <td>False</td>\n",
       "      <td>931</td>\n",
       "      <td>...</td>\n",
       "      <td>16.0</td>\n",
       "      <td>61.0</td>\n",
       "      <td>08B</td>\n",
       "      <td>1165514.0</td>\n",
       "      <td>1871908.0</td>\n",
       "      <td>2004</td>\n",
       "      <td>02/10/2018 03:50:01 PM</td>\n",
       "      <td>41.804107</td>\n",
       "      <td>-87.668499</td>\n",
       "      <td>(41.804106795, -87.668499335)</td>\n",
       "    </tr>\n",
       "  </tbody>\n",
       "</table>\n",
       "<p>5 rows × 21 columns</p>\n",
       "</div>"
      ],
      "text/plain": [
       "                          ID Case Number                  Block  IUCR  \\\n",
       "Date                                                                    \n",
       "2004-05-05 23:55:00  3310029    HK345564     001XX S HALSTED ST  0860   \n",
       "2004-05-05 21:00:00  3310033    HK345878      038XX W ARGYLE ST  1320   \n",
       "2004-04-30 08:10:00  3310034    HK333841        003XX E 43RD ST  031A   \n",
       "2004-05-06 04:53:00  3310037    HK345694      026XX N HOYNE AVE  1320   \n",
       "2004-05-05 16:20:00  3310040    HK344741  049XX S HERMITAGE AVE  0460   \n",
       "\n",
       "                        Primary Type     Description    Location Description  \\\n",
       "Date                                                                           \n",
       "2004-05-05 23:55:00            THEFT    RETAIL THEFT              DRUG STORE   \n",
       "2004-05-05 21:00:00  CRIMINAL DAMAGE      TO VEHICLE                  STREET   \n",
       "2004-04-30 08:10:00          ROBBERY  ARMED: HANDGUN                  STREET   \n",
       "2004-05-06 04:53:00  CRIMINAL DAMAGE      TO VEHICLE  VEHICLE NON-COMMERCIAL   \n",
       "2004-05-05 16:20:00          BATTERY          SIMPLE               APARTMENT   \n",
       "\n",
       "                    Arrest Domestic  Beat              ...                \\\n",
       "Date                                                   ...                 \n",
       "2004-05-05 23:55:00   True    False  1213              ...                 \n",
       "2004-05-05 21:00:00  False    False  1712              ...                 \n",
       "2004-04-30 08:10:00  False    False   222              ...                 \n",
       "2004-05-06 04:53:00  False    False  1913              ...                 \n",
       "2004-05-05 16:20:00  False    False   931              ...                 \n",
       "\n",
       "                     Ward  Community Area  FBI Code X Coordinate  \\\n",
       "Date                                                               \n",
       "2004-05-05 23:55:00  27.0            28.0        06    1171070.0   \n",
       "2004-05-05 21:00:00  39.0            14.0        14    1150069.0   \n",
       "2004-04-30 08:10:00   3.0            38.0        03    1178941.0   \n",
       "2004-05-06 04:53:00   1.0             7.0        14    1162363.0   \n",
       "2004-05-05 16:20:00  16.0            61.0       08B    1165514.0   \n",
       "\n",
       "                     Y Coordinate  Year              Updated On   Latitude  \\\n",
       "Date                                                                         \n",
       "2004-05-05 23:55:00     1899648.0  2004  02/10/2018 03:50:01 PM  41.880108   \n",
       "2004-05-05 21:00:00     1932953.0  2004  02/10/2018 03:50:01 PM  41.971935   \n",
       "2004-04-30 08:10:00     1876568.0  2004  02/10/2018 03:50:01 PM  41.816599   \n",
       "2004-05-06 04:53:00     1917641.0  2004  02/10/2018 03:50:01 PM  41.929669   \n",
       "2004-05-05 16:20:00     1871908.0  2004  02/10/2018 03:50:01 PM  41.804107   \n",
       "\n",
       "                     Longitude                       Location  \n",
       "Date                                                           \n",
       "2004-05-05 23:55:00 -87.647310  (41.880108035, -87.647309981)  \n",
       "2004-05-05 21:00:00 -87.723554  (41.971934656, -87.723553785)  \n",
       "2004-04-30 08:10:00 -87.619114  (41.816598679, -87.619113763)  \n",
       "2004-05-06 04:53:00 -87.678777  (41.929668705, -87.678776837)  \n",
       "2004-05-05 16:20:00 -87.668499  (41.804106795, -87.668499335)  \n",
       "\n",
       "[5 rows x 21 columns]"
      ]
     },
     "execution_count": 68,
     "metadata": {},
     "output_type": "execute_result"
    }
   ],
   "source": [
    "file_path_medium = 'data/chicago_crime/Crimes_-_2001_to_present-medium.csv'\n",
    "\n",
    "!head $file_path -n 1000001 > $file_path_medium\n",
    "\n",
    "crimes = pd.read_csv(file_path_medium, parse_dates=[2], index_col=[2])\n",
    "crimes.tail()"
   ]
  },
  {
   "cell_type": "code",
   "execution_count": 80,
   "metadata": {},
   "outputs": [
    {
     "data": {
      "text/plain": [
       "DatetimeIndex(['2015-03-18 19:44:00', '2015-03-18 23:00:00',\n",
       "               '2015-03-18 22:45:00', '2015-03-18 22:30:00',\n",
       "               '2015-03-18 21:00:00', '2015-03-18 22:00:00',\n",
       "               '2015-03-18 23:00:00', '2015-03-18 21:35:00',\n",
       "               '2015-03-18 22:09:00', '2015-03-18 21:25:00',\n",
       "               ...\n",
       "               '2004-04-30 05:20:00', '2004-05-05 17:00:00',\n",
       "               '2004-05-05 18:00:00', '2004-05-05 19:26:41',\n",
       "               '2004-05-04 22:43:27', '2004-05-05 23:55:00',\n",
       "               '2004-05-05 21:00:00', '2004-04-30 08:10:00',\n",
       "               '2004-05-06 04:53:00', '2004-05-05 16:20:00'],\n",
       "              dtype='datetime64[ns]', name='Date', length=999999, freq=None)"
      ]
     },
     "execution_count": 80,
     "metadata": {},
     "output_type": "execute_result"
    }
   ],
   "source": [
    "crimes.index"
   ]
  },
  {
   "cell_type": "code",
   "execution_count": 70,
   "metadata": {},
   "outputs": [
    {
     "name": "stdout",
     "output_type": "stream",
     "text": [
      "154.49508476257324 MB\n"
     ]
    }
   ],
   "source": [
    "print(f'{crimes.memory_usage().sum() / 1024**2} MB')"
   ]
  },
  {
   "cell_type": "code",
   "execution_count": 95,
   "metadata": {},
   "outputs": [
    {
     "data": {
      "text/plain": [
       "<matplotlib.axes._subplots.AxesSubplot at 0x7f4fca354eb8>"
      ]
     },
     "execution_count": 95,
     "metadata": {},
     "output_type": "execute_result"
    },
    {
     "data": {
      "image/png": "[encoded data removed]",
      "text/plain": [
       "<matplotlib.figure.Figure at 0x7f4fcb61de80>"
      ]
     },
     "metadata": {},
     "output_type": "display_data"
    }
   ],
   "source": [
    "daily_crimes = crimes['Primary Type'].resample('D').count()\n",
    "daily_crimes.sort_index(inplace=True)\n",
    "daily_crimes2016 = daily_crimes['2016']\n",
    "daily_crimes2016.plot()"
   ]
  },
  {
   "cell_type": "markdown",
   "metadata": {},
   "source": [
    "## Pandas Data Structures\n",
    "\n",
    "Let's explain them on the data we have…\n",
    "\n",
    "### Series\n",
    "\n",
    "Series is a one-dimensional labeled array capable of holding any data type (integers, strings, floating point numbers, Python objects, etc.).\n",
    "\n",
    "So, `crime_types` is a series of strings designating types of crimes and labeled with the crime's time of occurrence."
   ]
  },
  {
   "cell_type": "code",
   "execution_count": 97,
   "metadata": {},
   "outputs": [
    {
     "data": {
      "text/plain": [
       "Date\n",
       "2015-03-18 19:44:00                       BATTERY\n",
       "2015-03-18 23:00:00                 OTHER OFFENSE\n",
       "2015-03-18 22:45:00                       BATTERY\n",
       "2015-03-18 22:30:00                       BATTERY\n",
       "2015-03-18 21:00:00                       ROBBERY\n",
       "2015-03-18 22:00:00                       BATTERY\n",
       "2015-03-18 23:00:00                       BATTERY\n",
       "2015-03-18 21:35:00                       BATTERY\n",
       "2015-03-18 22:09:00                     NARCOTICS\n",
       "2015-03-18 21:25:00                       BATTERY\n",
       "2015-03-18 21:30:00               CRIMINAL DAMAGE\n",
       "2015-03-15 16:10:00                 OTHER OFFENSE\n",
       "2015-03-18 21:14:00             WEAPONS VIOLATION\n",
       "2015-03-18 22:50:00                       BATTERY\n",
       "2015-03-18 22:31:00                         THEFT\n",
       "2015-03-18 12:55:00                      BURGLARY\n",
       "2015-03-18 20:00:00           MOTOR VEHICLE THEFT\n",
       "2015-03-18 21:00:00                         THEFT\n",
       "2015-03-18 22:56:00        PUBLIC PEACE VIOLATION\n",
       "2015-03-18 22:45:00                         THEFT\n",
       "2015-03-18 22:00:00                         THEFT\n",
       "2014-09-01 08:00:00            DECEPTIVE PRACTICE\n",
       "2015-03-18 23:55:00                       ROBBERY\n",
       "2015-03-18 23:40:00                       BATTERY\n",
       "2015-03-18 21:44:00             WEAPONS VIOLATION\n",
       "2015-03-18 23:30:00                       BATTERY\n",
       "2015-03-18 22:45:00                       BATTERY\n",
       "2015-03-18 22:33:00                       ASSAULT\n",
       "2015-03-19 01:20:00                       BATTERY\n",
       "2015-03-18 21:59:00                       BATTERY\n",
       "                                  ...            \n",
       "2004-05-05 13:00:00                         THEFT\n",
       "2004-05-05 11:00:00                      BURGLARY\n",
       "2004-05-05 16:40:00                       BATTERY\n",
       "2009-09-11 18:43:00                       BATTERY\n",
       "2004-05-05 17:56:00                         THEFT\n",
       "2009-08-28 10:00:00                         THEFT\n",
       "2004-05-05 16:55:00                         THEFT\n",
       "2004-05-05 04:57:29               CRIMINAL DAMAGE\n",
       "2004-05-03 13:00:00                         THEFT\n",
       "2004-05-04 12:45:00           MOTOR VEHICLE THEFT\n",
       "2009-09-11 19:20:00                     NARCOTICS\n",
       "2009-09-11 18:10:00                 OTHER OFFENSE\n",
       "2009-09-10 22:00:00               CRIMINAL DAMAGE\n",
       "2004-05-05 15:30:00                         THEFT\n",
       "2009-09-11 17:00:00    OFFENSE INVOLVING CHILDREN\n",
       "2009-09-11 16:17:00                       BATTERY\n",
       "2004-05-03 17:00:00           MOTOR VEHICLE THEFT\n",
       "2004-05-05 20:00:00               CRIMINAL DAMAGE\n",
       "2009-09-11 19:00:00                         THEFT\n",
       "2004-05-04 09:24:22                       BATTERY\n",
       "2004-04-30 05:20:00                       BATTERY\n",
       "2004-05-05 17:00:00                       BATTERY\n",
       "2004-05-05 18:00:00               CRIMINAL DAMAGE\n",
       "2004-05-05 19:26:41                         THEFT\n",
       "2004-05-04 22:43:27               CRIMINAL DAMAGE\n",
       "2004-05-05 23:55:00                         THEFT\n",
       "2004-05-05 21:00:00               CRIMINAL DAMAGE\n",
       "2004-04-30 08:10:00                       ROBBERY\n",
       "2004-05-06 04:53:00               CRIMINAL DAMAGE\n",
       "2004-05-05 16:20:00                       BATTERY\n",
       "Name: Primary Type, dtype: object"
      ]
     },
     "execution_count": 97,
     "metadata": {},
     "output_type": "execute_result"
    }
   ],
   "source": [
    "crime_types = crimes['Primary Type']\n",
    "crime_types"
   ]
  },
  {
   "cell_type": "markdown",
   "metadata": {},
   "source": [
    "It has an index which is a NumPy array"
   ]
  },
  {
   "cell_type": "code",
   "execution_count": 103,
   "metadata": {},
   "outputs": [
    {
     "data": {
      "text/plain": [
       "DatetimeIndex(['2015-03-18 19:44:00', '2015-03-18 23:00:00',\n",
       "               '2015-03-18 22:45:00', '2015-03-18 22:30:00',\n",
       "               '2015-03-18 21:00:00', '2015-03-18 22:00:00',\n",
       "               '2015-03-18 23:00:00', '2015-03-18 21:35:00',\n",
       "               '2015-03-18 22:09:00', '2015-03-18 21:25:00',\n",
       "               ...\n",
       "               '2004-04-30 05:20:00', '2004-05-05 17:00:00',\n",
       "               '2004-05-05 18:00:00', '2004-05-05 19:26:41',\n",
       "               '2004-05-04 22:43:27', '2004-05-05 23:55:00',\n",
       "               '2004-05-05 21:00:00', '2004-04-30 08:10:00',\n",
       "               '2004-05-06 04:53:00', '2004-05-05 16:20:00'],\n",
       "              dtype='datetime64[ns]', name='Date', length=999999, freq=None)"
      ]
     },
     "execution_count": 103,
     "metadata": {},
     "output_type": "execute_result"
    }
   ],
   "source": [
    "crime_types.index"
   ]
  },
  {
   "cell_type": "markdown",
   "metadata": {},
   "source": [
    "… and and array of values too"
   ]
  },
  {
   "cell_type": "code",
   "execution_count": 104,
   "metadata": {},
   "outputs": [
    {
     "data": {
      "text/plain": [
       "array(['BATTERY', 'OTHER OFFENSE', 'BATTERY', ..., 'ROBBERY',\n",
       "       'CRIMINAL DAMAGE', 'BATTERY'], dtype=object)"
      ]
     },
     "execution_count": 104,
     "metadata": {},
     "output_type": "execute_result"
    }
   ],
   "source": [
    "crime_types.values"
   ]
  },
  {
   "cell_type": "markdown",
   "metadata": {},
   "source": [
    "Remember, **data alignment is intrinsic**. If we sort the index, values are still correctly matched to corresponding labels."
   ]
  },
  {
   "cell_type": "code",
   "execution_count": 105,
   "metadata": {},
   "outputs": [
    {
     "data": {
      "text/plain": [
       "Date\n",
       "2001-01-01                  THEFT\n",
       "2001-01-01            SEX OFFENSE\n",
       "2001-01-01                  THEFT\n",
       "2001-01-01            SEX OFFENSE\n",
       "2001-01-01    CRIM SEXUAL ASSAULT\n",
       "Name: Primary Type, dtype: object"
      ]
     },
     "execution_count": 105,
     "metadata": {},
     "output_type": "execute_result"
    }
   ],
   "source": [
    "crime_types.sort_index(ascending=True).head()"
   ]
  },
  {
   "cell_type": "code",
   "execution_count": 106,
   "metadata": {},
   "outputs": [
    {
     "data": {
      "text/plain": [
       "Date\n",
       "2018-04-08 23:50:00    OTHER OFFENSE\n",
       "2018-04-08 23:45:00          ASSAULT\n",
       "2018-04-08 23:33:00        OBSCENITY\n",
       "2018-04-08 23:30:00          BATTERY\n",
       "2018-04-08 23:30:00          BATTERY\n",
       "Name: Primary Type, dtype: object"
      ]
     },
     "execution_count": 106,
     "metadata": {},
     "output_type": "execute_result"
    }
   ],
   "source": [
    "crime_types.sort_index(ascending=False).head()"
   ]
  },
  {
   "cell_type": "markdown",
   "metadata": {},
   "source": [
    "### DataFrame\n",
    "\n",
    "A table-like data structure. Essentially the whole crimes object is a DataFrame."
   ]
  },
  {
   "cell_type": "code",
   "execution_count": 107,
   "metadata": {},
   "outputs": [
    {
     "data": {
      "text/html": [
       "<div>\n",
       "<table border=\"1\" class=\"dataframe\">\n",
       "  <thead>\n",
       "    <tr style=\"text-align: right;\">\n",
       "      <th></th>\n",
       "      <th>ID</th>\n",
       "      <th>Case Number</th>\n",
       "      <th>Block</th>\n",
       "      <th>IUCR</th>\n",
       "      <th>Primary Type</th>\n",
       "      <th>Description</th>\n",
       "      <th>Location Description</th>\n",
       "      <th>Arrest</th>\n",
       "      <th>Domestic</th>\n",
       "      <th>Beat</th>\n",
       "      <th>...</th>\n",
       "      <th>Ward</th>\n",
       "      <th>Community Area</th>\n",
       "      <th>FBI Code</th>\n",
       "      <th>X Coordinate</th>\n",
       "      <th>Y Coordinate</th>\n",
       "      <th>Year</th>\n",
       "      <th>Updated On</th>\n",
       "      <th>Latitude</th>\n",
       "      <th>Longitude</th>\n",
       "      <th>Location</th>\n",
       "    </tr>\n",
       "    <tr>\n",
       "      <th>Date</th>\n",
       "      <th></th>\n",
       "      <th></th>\n",
       "      <th></th>\n",
       "      <th></th>\n",
       "      <th></th>\n",
       "      <th></th>\n",
       "      <th></th>\n",
       "      <th></th>\n",
       "      <th></th>\n",
       "      <th></th>\n",
       "      <th></th>\n",
       "      <th></th>\n",
       "      <th></th>\n",
       "      <th></th>\n",
       "      <th></th>\n",
       "      <th></th>\n",
       "      <th></th>\n",
       "      <th></th>\n",
       "      <th></th>\n",
       "      <th></th>\n",
       "      <th></th>\n",
       "    </tr>\n",
       "  </thead>\n",
       "  <tbody>\n",
       "    <tr>\n",
       "      <th>2015-03-18 19:44:00</th>\n",
       "      <td>10000092</td>\n",
       "      <td>HY189866</td>\n",
       "      <td>047XX W OHIO ST</td>\n",
       "      <td>041A</td>\n",
       "      <td>BATTERY</td>\n",
       "      <td>AGGRAVATED: HANDGUN</td>\n",
       "      <td>STREET</td>\n",
       "      <td>False</td>\n",
       "      <td>False</td>\n",
       "      <td>1111</td>\n",
       "      <td>...</td>\n",
       "      <td>28.0</td>\n",
       "      <td>25.0</td>\n",
       "      <td>04B</td>\n",
       "      <td>1144606.0</td>\n",
       "      <td>1903566.0</td>\n",
       "      <td>2015</td>\n",
       "      <td>02/10/2018 03:50:01 PM</td>\n",
       "      <td>41.891399</td>\n",
       "      <td>-87.744385</td>\n",
       "      <td>(41.891398861, -87.744384567)</td>\n",
       "    </tr>\n",
       "    <tr>\n",
       "      <th>2015-03-18 23:00:00</th>\n",
       "      <td>10000094</td>\n",
       "      <td>HY190059</td>\n",
       "      <td>066XX S MARSHFIELD AVE</td>\n",
       "      <td>4625</td>\n",
       "      <td>OTHER OFFENSE</td>\n",
       "      <td>PAROLE VIOLATION</td>\n",
       "      <td>STREET</td>\n",
       "      <td>True</td>\n",
       "      <td>False</td>\n",
       "      <td>725</td>\n",
       "      <td>...</td>\n",
       "      <td>15.0</td>\n",
       "      <td>67.0</td>\n",
       "      <td>26</td>\n",
       "      <td>1166468.0</td>\n",
       "      <td>1860715.0</td>\n",
       "      <td>2015</td>\n",
       "      <td>02/10/2018 03:50:01 PM</td>\n",
       "      <td>41.773372</td>\n",
       "      <td>-87.665319</td>\n",
       "      <td>(41.773371528, -87.665319468)</td>\n",
       "    </tr>\n",
       "    <tr>\n",
       "      <th>2015-03-18 22:45:00</th>\n",
       "      <td>10000095</td>\n",
       "      <td>HY190052</td>\n",
       "      <td>044XX S LAKE PARK AVE</td>\n",
       "      <td>0486</td>\n",
       "      <td>BATTERY</td>\n",
       "      <td>DOMESTIC BATTERY SIMPLE</td>\n",
       "      <td>APARTMENT</td>\n",
       "      <td>False</td>\n",
       "      <td>True</td>\n",
       "      <td>222</td>\n",
       "      <td>...</td>\n",
       "      <td>4.0</td>\n",
       "      <td>39.0</td>\n",
       "      <td>08B</td>\n",
       "      <td>1185075.0</td>\n",
       "      <td>1875622.0</td>\n",
       "      <td>2015</td>\n",
       "      <td>02/10/2018 03:50:01 PM</td>\n",
       "      <td>41.813861</td>\n",
       "      <td>-87.596643</td>\n",
       "      <td>(41.81386068, -87.596642837)</td>\n",
       "    </tr>\n",
       "    <tr>\n",
       "      <th>2015-03-18 22:30:00</th>\n",
       "      <td>10000096</td>\n",
       "      <td>HY190054</td>\n",
       "      <td>051XX S MICHIGAN AVE</td>\n",
       "      <td>0460</td>\n",
       "      <td>BATTERY</td>\n",
       "      <td>SIMPLE</td>\n",
       "      <td>APARTMENT</td>\n",
       "      <td>False</td>\n",
       "      <td>False</td>\n",
       "      <td>225</td>\n",
       "      <td>...</td>\n",
       "      <td>3.0</td>\n",
       "      <td>40.0</td>\n",
       "      <td>08B</td>\n",
       "      <td>1178033.0</td>\n",
       "      <td>1870804.0</td>\n",
       "      <td>2015</td>\n",
       "      <td>02/10/2018 03:50:01 PM</td>\n",
       "      <td>41.800802</td>\n",
       "      <td>-87.622619</td>\n",
       "      <td>(41.800802415, -87.622619343)</td>\n",
       "    </tr>\n",
       "    <tr>\n",
       "      <th>2015-03-18 21:00:00</th>\n",
       "      <td>10000097</td>\n",
       "      <td>HY189976</td>\n",
       "      <td>047XX W ADAMS ST</td>\n",
       "      <td>031A</td>\n",
       "      <td>ROBBERY</td>\n",
       "      <td>ARMED: HANDGUN</td>\n",
       "      <td>SIDEWALK</td>\n",
       "      <td>False</td>\n",
       "      <td>False</td>\n",
       "      <td>1113</td>\n",
       "      <td>...</td>\n",
       "      <td>28.0</td>\n",
       "      <td>25.0</td>\n",
       "      <td>03</td>\n",
       "      <td>1144920.0</td>\n",
       "      <td>1898709.0</td>\n",
       "      <td>2015</td>\n",
       "      <td>02/10/2018 03:50:01 PM</td>\n",
       "      <td>41.878065</td>\n",
       "      <td>-87.743354</td>\n",
       "      <td>(41.878064761, -87.743354013)</td>\n",
       "    </tr>\n",
       "  </tbody>\n",
       "</table>\n",
       "<p>5 rows × 21 columns</p>\n",
       "</div>"
      ],
      "text/plain": [
       "                           ID Case Number                   Block  IUCR  \\\n",
       "Date                                                                      \n",
       "2015-03-18 19:44:00  10000092    HY189866         047XX W OHIO ST  041A   \n",
       "2015-03-18 23:00:00  10000094    HY190059  066XX S MARSHFIELD AVE  4625   \n",
       "2015-03-18 22:45:00  10000095    HY190052   044XX S LAKE PARK AVE  0486   \n",
       "2015-03-18 22:30:00  10000096    HY190054    051XX S MICHIGAN AVE  0460   \n",
       "2015-03-18 21:00:00  10000097    HY189976        047XX W ADAMS ST  031A   \n",
       "\n",
       "                      Primary Type              Description  \\\n",
       "Date                                                          \n",
       "2015-03-18 19:44:00        BATTERY      AGGRAVATED: HANDGUN   \n",
       "2015-03-18 23:00:00  OTHER OFFENSE         PAROLE VIOLATION   \n",
       "2015-03-18 22:45:00        BATTERY  DOMESTIC BATTERY SIMPLE   \n",
       "2015-03-18 22:30:00        BATTERY                   SIMPLE   \n",
       "2015-03-18 21:00:00        ROBBERY           ARMED: HANDGUN   \n",
       "\n",
       "                    Location Description Arrest Domestic  Beat  \\\n",
       "Date                                                             \n",
       "2015-03-18 19:44:00               STREET  False    False  1111   \n",
       "2015-03-18 23:00:00               STREET   True    False   725   \n",
       "2015-03-18 22:45:00            APARTMENT  False     True   222   \n",
       "2015-03-18 22:30:00            APARTMENT  False    False   225   \n",
       "2015-03-18 21:00:00             SIDEWALK  False    False  1113   \n",
       "\n",
       "                                 ...                Ward  Community Area  \\\n",
       "Date                             ...                                       \n",
       "2015-03-18 19:44:00              ...                28.0            25.0   \n",
       "2015-03-18 23:00:00              ...                15.0            67.0   \n",
       "2015-03-18 22:45:00              ...                 4.0            39.0   \n",
       "2015-03-18 22:30:00              ...                 3.0            40.0   \n",
       "2015-03-18 21:00:00              ...                28.0            25.0   \n",
       "\n",
       "                     FBI Code X Coordinate  Y Coordinate  Year  \\\n",
       "Date                                                             \n",
       "2015-03-18 19:44:00       04B    1144606.0     1903566.0  2015   \n",
       "2015-03-18 23:00:00        26    1166468.0     1860715.0  2015   \n",
       "2015-03-18 22:45:00       08B    1185075.0     1875622.0  2015   \n",
       "2015-03-18 22:30:00       08B    1178033.0     1870804.0  2015   \n",
       "2015-03-18 21:00:00        03    1144920.0     1898709.0  2015   \n",
       "\n",
       "                                 Updated On   Latitude  Longitude  \\\n",
       "Date                                                                \n",
       "2015-03-18 19:44:00  02/10/2018 03:50:01 PM  41.891399 -87.744385   \n",
       "2015-03-18 23:00:00  02/10/2018 03:50:01 PM  41.773372 -87.665319   \n",
       "2015-03-18 22:45:00  02/10/2018 03:50:01 PM  41.813861 -87.596643   \n",
       "2015-03-18 22:30:00  02/10/2018 03:50:01 PM  41.800802 -87.622619   \n",
       "2015-03-18 21:00:00  02/10/2018 03:50:01 PM  41.878065 -87.743354   \n",
       "\n",
       "                                          Location  \n",
       "Date                                                \n",
       "2015-03-18 19:44:00  (41.891398861, -87.744384567)  \n",
       "2015-03-18 23:00:00  (41.773371528, -87.665319468)  \n",
       "2015-03-18 22:45:00   (41.81386068, -87.596642837)  \n",
       "2015-03-18 22:30:00  (41.800802415, -87.622619343)  \n",
       "2015-03-18 21:00:00  (41.878064761, -87.743354013)  \n",
       "\n",
       "[5 rows x 21 columns]"
      ]
     },
     "execution_count": 107,
     "metadata": {},
     "output_type": "execute_result"
    }
   ],
   "source": [
    "crimes.head()"
   ]
  },
  {
   "cell_type": "markdown",
   "metadata": {},
   "source": [
    "It also has an index of rows:"
   ]
  },
  {
   "cell_type": "code",
   "execution_count": 108,
   "metadata": {},
   "outputs": [
    {
     "data": {
      "text/plain": [
       "DatetimeIndex(['2015-03-18 19:44:00', '2015-03-18 23:00:00',\n",
       "               '2015-03-18 22:45:00', '2015-03-18 22:30:00',\n",
       "               '2015-03-18 21:00:00', '2015-03-18 22:00:00',\n",
       "               '2015-03-18 23:00:00', '2015-03-18 21:35:00',\n",
       "               '2015-03-18 22:09:00', '2015-03-18 21:25:00',\n",
       "               ...\n",
       "               '2004-04-30 05:20:00', '2004-05-05 17:00:00',\n",
       "               '2004-05-05 18:00:00', '2004-05-05 19:26:41',\n",
       "               '2004-05-04 22:43:27', '2004-05-05 23:55:00',\n",
       "               '2004-05-05 21:00:00', '2004-04-30 08:10:00',\n",
       "               '2004-05-06 04:53:00', '2004-05-05 16:20:00'],\n",
       "              dtype='datetime64[ns]', name='Date', length=999999, freq=None)"
      ]
     },
     "execution_count": 108,
     "metadata": {},
     "output_type": "execute_result"
    }
   ],
   "source": [
    "crimes.index"
   ]
  },
  {
   "cell_type": "markdown",
   "metadata": {},
   "source": [
    "… but also an index of columns"
   ]
  },
  {
   "cell_type": "code",
   "execution_count": 111,
   "metadata": {},
   "outputs": [
    {
     "data": {
      "text/plain": [
       "Index(['ID', 'Case Number', 'Block', 'IUCR', 'Primary Type', 'Description',\n",
       "       'Location Description', 'Arrest', 'Domestic', 'Beat', 'District',\n",
       "       'Ward', 'Community Area', 'FBI Code', 'X Coordinate', 'Y Coordinate',\n",
       "       'Year', 'Updated On', 'Latitude', 'Longitude', 'Location'],\n",
       "      dtype='object')"
      ]
     },
     "execution_count": 111,
     "metadata": {},
     "output_type": "execute_result"
    }
   ],
   "source": [
    "crimes.columns"
   ]
  },
  {
   "cell_type": "markdown",
   "metadata": {},
   "source": [
    "## Creating pandas objects\n",
    "\n",
    "So far we've only been creating Pandas objects from CSV files using the `pd.read_csv` function, but we can also create new ones from other Python data structures (which will come in handy later when we get to scraping data from the web)."
   ]
  },
  {
   "cell_type": "code",
   "execution_count": 125,
   "metadata": {},
   "outputs": [
    {
     "data": {
      "text/plain": [
       "A    17\n",
       "B     6\n",
       "C     5\n",
       "D     3\n",
       "E    19\n",
       "dtype: int64"
      ]
     },
     "execution_count": 125,
     "metadata": {},
     "output_type": "execute_result"
    }
   ],
   "source": [
    "s = pd.Series({'A': 17, 'B': 6, 'C': 5, 'D': 3, 'E': 19})\n",
    "s"
   ]
  },
  {
   "cell_type": "code",
   "execution_count": 127,
   "metadata": {},
   "outputs": [
    {
     "data": {
      "text/html": [
       "<div>\n",
       "<table border=\"1\" class=\"dataframe\">\n",
       "  <thead>\n",
       "    <tr style=\"text-align: right;\">\n",
       "      <th></th>\n",
       "      <th>age</th>\n",
       "      <th>test</th>\n",
       "    </tr>\n",
       "  </thead>\n",
       "  <tbody>\n",
       "    <tr>\n",
       "      <th>A</th>\n",
       "      <td>17</td>\n",
       "      <td>0.30</td>\n",
       "    </tr>\n",
       "    <tr>\n",
       "      <th>B</th>\n",
       "      <td>6</td>\n",
       "      <td>59.23</td>\n",
       "    </tr>\n",
       "    <tr>\n",
       "      <th>C</th>\n",
       "      <td>5</td>\n",
       "      <td>16.70</td>\n",
       "    </tr>\n",
       "    <tr>\n",
       "      <th>D</th>\n",
       "      <td>3</td>\n",
       "      <td>2.00</td>\n",
       "    </tr>\n",
       "    <tr>\n",
       "      <th>E</th>\n",
       "      <td>19</td>\n",
       "      <td>5.30</td>\n",
       "    </tr>\n",
       "  </tbody>\n",
       "</table>\n",
       "</div>"
      ],
      "text/plain": [
       "   age   test\n",
       "A   17   0.30\n",
       "B    6  59.23\n",
       "C    5  16.70\n",
       "D    3   2.00\n",
       "E   19   5.30"
      ]
     },
     "execution_count": 127,
     "metadata": {},
     "output_type": "execute_result"
    }
   ],
   "source": [
    "df = pd.DataFrame({'age': s, 'test': {'A': 0.3, 'B': 59.23, 'C': 16.7, 'D': 2.0, 'E': 5.3}})\n",
    "df"
   ]
  },
  {
   "cell_type": "markdown",
   "metadata": {},
   "source": [
    "## Selecting values\n",
    "\n",
    "Now let's give a very quick over view of the many ways of data selection in Pandas.\n",
    "\n",
    "### Label-based using `.loc`\n",
    "\n",
    "By single value – this actually returns a series when we select a single column/row in a DataFrame"
   ]
  },
  {
   "cell_type": "code",
   "execution_count": 132,
   "metadata": {},
   "outputs": [
    {
     "data": {
      "text/plain": [
       "age     17.0\n",
       "test     0.3\n",
       "Name: A, dtype: float64"
      ]
     },
     "execution_count": 132,
     "metadata": {},
     "output_type": "execute_result"
    }
   ],
   "source": [
    "df.loc['A']"
   ]
  },
  {
   "cell_type": "markdown",
   "metadata": {},
   "source": [
    "If we're selecting in a Series, we get back a scalar"
   ]
  },
  {
   "cell_type": "code",
   "execution_count": 134,
   "metadata": {},
   "outputs": [
    {
     "data": {
      "text/plain": [
       "17"
      ]
     },
     "execution_count": 134,
     "metadata": {},
     "output_type": "execute_result"
    }
   ],
   "source": [
    "s.loc['A']"
   ]
  },
  {
   "cell_type": "markdown",
   "metadata": {},
   "source": [
    "Or we can select by passing a list of labels to select (which keeps the same dimensionality)"
   ]
  },
  {
   "cell_type": "code",
   "execution_count": 129,
   "metadata": {},
   "outputs": [
    {
     "data": {
      "text/html": [
       "<div>\n",
       "<table border=\"1\" class=\"dataframe\">\n",
       "  <thead>\n",
       "    <tr style=\"text-align: right;\">\n",
       "      <th></th>\n",
       "      <th>age</th>\n",
       "      <th>test</th>\n",
       "    </tr>\n",
       "  </thead>\n",
       "  <tbody>\n",
       "    <tr>\n",
       "      <th>A</th>\n",
       "      <td>17</td>\n",
       "      <td>0.30</td>\n",
       "    </tr>\n",
       "    <tr>\n",
       "      <th>B</th>\n",
       "      <td>6</td>\n",
       "      <td>59.23</td>\n",
       "    </tr>\n",
       "  </tbody>\n",
       "</table>\n",
       "</div>"
      ],
      "text/plain": [
       "   age   test\n",
       "A   17   0.30\n",
       "B    6  59.23"
      ]
     },
     "execution_count": 129,
     "metadata": {},
     "output_type": "execute_result"
    }
   ],
   "source": [
    "# using lists\n",
    "df.loc[['A', 'B']]"
   ]
  },
  {
   "cell_type": "code",
   "execution_count": 135,
   "metadata": {},
   "outputs": [
    {
     "data": {
      "text/plain": [
       "A    17\n",
       "B     6\n",
       "dtype: int64"
      ]
     },
     "execution_count": 135,
     "metadata": {},
     "output_type": "execute_result"
    }
   ],
   "source": [
    "s.loc[['A', 'B']]"
   ]
  },
  {
   "cell_type": "markdown",
   "metadata": {},
   "source": [
    "We can also select columns"
   ]
  },
  {
   "cell_type": "code",
   "execution_count": 136,
   "metadata": {},
   "outputs": [
    {
     "data": {
      "text/html": [
       "<div>\n",
       "<table border=\"1\" class=\"dataframe\">\n",
       "  <thead>\n",
       "    <tr style=\"text-align: right;\">\n",
       "      <th></th>\n",
       "      <th>age</th>\n",
       "    </tr>\n",
       "  </thead>\n",
       "  <tbody>\n",
       "    <tr>\n",
       "      <th>A</th>\n",
       "      <td>17</td>\n",
       "    </tr>\n",
       "    <tr>\n",
       "      <th>B</th>\n",
       "      <td>6</td>\n",
       "    </tr>\n",
       "    <tr>\n",
       "      <th>C</th>\n",
       "      <td>5</td>\n",
       "    </tr>\n",
       "    <tr>\n",
       "      <th>D</th>\n",
       "      <td>3</td>\n",
       "    </tr>\n",
       "    <tr>\n",
       "      <th>E</th>\n",
       "      <td>19</td>\n",
       "    </tr>\n",
       "  </tbody>\n",
       "</table>\n",
       "</div>"
      ],
      "text/plain": [
       "   age\n",
       "A   17\n",
       "B    6\n",
       "C    5\n",
       "D    3\n",
       "E   19"
      ]
     },
     "execution_count": 136,
     "metadata": {},
     "output_type": "execute_result"
    }
   ],
   "source": [
    "df.loc[:, ['age']]"
   ]
  },
  {
   "cell_type": "markdown",
   "metadata": {},
   "source": [
    "… or both by row and column"
   ]
  },
  {
   "cell_type": "code",
   "execution_count": 140,
   "metadata": {},
   "outputs": [
    {
     "data": {
      "text/html": [
       "<div>\n",
       "<table border=\"1\" class=\"dataframe\">\n",
       "  <thead>\n",
       "    <tr style=\"text-align: right;\">\n",
       "      <th></th>\n",
       "      <th>age</th>\n",
       "    </tr>\n",
       "  </thead>\n",
       "  <tbody>\n",
       "    <tr>\n",
       "      <th>A</th>\n",
       "      <td>17</td>\n",
       "    </tr>\n",
       "    <tr>\n",
       "      <th>B</th>\n",
       "      <td>6</td>\n",
       "    </tr>\n",
       "  </tbody>\n",
       "</table>\n",
       "</div>"
      ],
      "text/plain": [
       "   age\n",
       "A   17\n",
       "B    6"
      ]
     },
     "execution_count": 140,
     "metadata": {},
     "output_type": "execute_result"
    }
   ],
   "source": [
    "df.loc[['A','B'], ['age']]"
   ]
  },
  {
   "cell_type": "markdown",
   "metadata": {},
   "source": [
    "Shorthand we've been using already for selecting from the primary index (column for data frames)"
   ]
  },
  {
   "cell_type": "code",
   "execution_count": 156,
   "metadata": {},
   "outputs": [
    {
     "data": {
      "text/plain": [
       "A    17\n",
       "B     6\n",
       "C     5\n",
       "D     3\n",
       "E    19\n",
       "Name: age, dtype: int64"
      ]
     },
     "execution_count": 156,
     "metadata": {},
     "output_type": "execute_result"
    }
   ],
   "source": [
    "df['age']"
   ]
  },
  {
   "cell_type": "markdown",
   "metadata": {},
   "source": [
    "Or even by attribute if the name doesn't contain spaces or doesn't clash with any object method names"
   ]
  },
  {
   "cell_type": "code",
   "execution_count": 154,
   "metadata": {},
   "outputs": [
    {
     "data": {
      "text/plain": [
       "A    17\n",
       "B     6\n",
       "C     5\n",
       "D     3\n",
       "E    19\n",
       "Name: age, dtype: int64"
      ]
     },
     "execution_count": 154,
     "metadata": {},
     "output_type": "execute_result"
    }
   ],
   "source": [
    "df.age"
   ]
  },
  {
   "cell_type": "markdown",
   "metadata": {},
   "source": [
    "### Index-based using `.iloc`\n",
    "\n",
    "To select using index numbers"
   ]
  },
  {
   "cell_type": "code",
   "execution_count": 142,
   "metadata": {},
   "outputs": [
    {
     "data": {
      "text/html": [
       "<div>\n",
       "<table border=\"1\" class=\"dataframe\">\n",
       "  <thead>\n",
       "    <tr style=\"text-align: right;\">\n",
       "      <th></th>\n",
       "      <th>age</th>\n",
       "      <th>test</th>\n",
       "    </tr>\n",
       "  </thead>\n",
       "  <tbody>\n",
       "    <tr>\n",
       "      <th>A</th>\n",
       "      <td>17</td>\n",
       "      <td>0.3</td>\n",
       "    </tr>\n",
       "    <tr>\n",
       "      <th>C</th>\n",
       "      <td>5</td>\n",
       "      <td>16.7</td>\n",
       "    </tr>\n",
       "    <tr>\n",
       "      <th>D</th>\n",
       "      <td>3</td>\n",
       "      <td>2.0</td>\n",
       "    </tr>\n",
       "  </tbody>\n",
       "</table>\n",
       "</div>"
      ],
      "text/plain": [
       "   age  test\n",
       "A   17   0.3\n",
       "C    5  16.7\n",
       "D    3   2.0"
      ]
     },
     "execution_count": 142,
     "metadata": {},
     "output_type": "execute_result"
    }
   ],
   "source": [
    "df.iloc[[0, 2, 3]]"
   ]
  },
  {
   "cell_type": "code",
   "execution_count": 148,
   "metadata": {
    "scrolled": true
   },
   "outputs": [
    {
     "data": {
      "text/html": [
       "<div>\n",
       "<table border=\"1\" class=\"dataframe\">\n",
       "  <thead>\n",
       "    <tr style=\"text-align: right;\">\n",
       "      <th></th>\n",
       "      <th>Description</th>\n",
       "    </tr>\n",
       "    <tr>\n",
       "      <th>Date</th>\n",
       "      <th></th>\n",
       "    </tr>\n",
       "  </thead>\n",
       "  <tbody>\n",
       "    <tr>\n",
       "      <th>2015-03-18 19:44:00</th>\n",
       "      <td>AGGRAVATED: HANDGUN</td>\n",
       "    </tr>\n",
       "    <tr>\n",
       "      <th>2015-03-18 23:00:00</th>\n",
       "      <td>PAROLE VIOLATION</td>\n",
       "    </tr>\n",
       "    <tr>\n",
       "      <th>2015-03-18 22:45:00</th>\n",
       "      <td>DOMESTIC BATTERY SIMPLE</td>\n",
       "    </tr>\n",
       "    <tr>\n",
       "      <th>2015-03-18 22:30:00</th>\n",
       "      <td>SIMPLE</td>\n",
       "    </tr>\n",
       "    <tr>\n",
       "      <th>2015-03-18 21:00:00</th>\n",
       "      <td>ARMED: HANDGUN</td>\n",
       "    </tr>\n",
       "    <tr>\n",
       "      <th>2015-03-18 22:00:00</th>\n",
       "      <td>SIMPLE</td>\n",
       "    </tr>\n",
       "    <tr>\n",
       "      <th>2015-03-18 23:00:00</th>\n",
       "      <td>DOMESTIC BATTERY SIMPLE</td>\n",
       "    </tr>\n",
       "    <tr>\n",
       "      <th>2015-03-18 21:35:00</th>\n",
       "      <td>DOMESTIC BATTERY SIMPLE</td>\n",
       "    </tr>\n",
       "    <tr>\n",
       "      <th>2015-03-18 22:09:00</th>\n",
       "      <td>POSS: CANNABIS 30GMS OR LESS</td>\n",
       "    </tr>\n",
       "    <tr>\n",
       "      <th>2015-03-18 21:25:00</th>\n",
       "      <td>SIMPLE</td>\n",
       "    </tr>\n",
       "  </tbody>\n",
       "</table>\n",
       "</div>"
      ],
      "text/plain": [
       "                                      Description\n",
       "Date                                             \n",
       "2015-03-18 19:44:00           AGGRAVATED: HANDGUN\n",
       "2015-03-18 23:00:00              PAROLE VIOLATION\n",
       "2015-03-18 22:45:00       DOMESTIC BATTERY SIMPLE\n",
       "2015-03-18 22:30:00                        SIMPLE\n",
       "2015-03-18 21:00:00                ARMED: HANDGUN\n",
       "2015-03-18 22:00:00                        SIMPLE\n",
       "2015-03-18 23:00:00       DOMESTIC BATTERY SIMPLE\n",
       "2015-03-18 21:35:00       DOMESTIC BATTERY SIMPLE\n",
       "2015-03-18 22:09:00  POSS: CANNABIS 30GMS OR LESS\n",
       "2015-03-18 21:25:00                        SIMPLE"
      ]
     },
     "execution_count": 148,
     "metadata": {},
     "output_type": "execute_result"
    }
   ],
   "source": [
    "crimes.iloc[:10, [5]]"
   ]
  },
  {
   "cell_type": "markdown",
   "metadata": {},
   "source": [
    "### Slicing\n",
    "\n",
    "Selecting by using ranges"
   ]
  },
  {
   "cell_type": "code",
   "execution_count": 167,
   "metadata": {},
   "outputs": [
    {
     "data": {
      "text/html": [
       "<div>\n",
       "<table border=\"1\" class=\"dataframe\">\n",
       "  <thead>\n",
       "    <tr style=\"text-align: right;\">\n",
       "      <th></th>\n",
       "      <th>age</th>\n",
       "      <th>test</th>\n",
       "    </tr>\n",
       "  </thead>\n",
       "  <tbody>\n",
       "    <tr>\n",
       "      <th>C</th>\n",
       "      <td>5</td>\n",
       "      <td>16.7</td>\n",
       "    </tr>\n",
       "    <tr>\n",
       "      <th>D</th>\n",
       "      <td>3</td>\n",
       "      <td>2.0</td>\n",
       "    </tr>\n",
       "    <tr>\n",
       "      <th>E</th>\n",
       "      <td>19</td>\n",
       "      <td>5.3</td>\n",
       "    </tr>\n",
       "  </tbody>\n",
       "</table>\n",
       "</div>"
      ],
      "text/plain": [
       "   age  test\n",
       "C    5  16.7\n",
       "D    3   2.0\n",
       "E   19   5.3"
      ]
     },
     "execution_count": 167,
     "metadata": {},
     "output_type": "execute_result"
    }
   ],
   "source": [
    "df.iloc[2:5]"
   ]
  },
  {
   "cell_type": "markdown",
   "metadata": {},
   "source": [
    "Or for short"
   ]
  },
  {
   "cell_type": "code",
   "execution_count": 169,
   "metadata": {},
   "outputs": [
    {
     "data": {
      "text/html": [
       "<div>\n",
       "<table border=\"1\" class=\"dataframe\">\n",
       "  <thead>\n",
       "    <tr style=\"text-align: right;\">\n",
       "      <th></th>\n",
       "      <th>age</th>\n",
       "      <th>test</th>\n",
       "    </tr>\n",
       "  </thead>\n",
       "  <tbody>\n",
       "    <tr>\n",
       "      <th>C</th>\n",
       "      <td>5</td>\n",
       "      <td>16.7</td>\n",
       "    </tr>\n",
       "    <tr>\n",
       "      <th>D</th>\n",
       "      <td>3</td>\n",
       "      <td>2.0</td>\n",
       "    </tr>\n",
       "    <tr>\n",
       "      <th>E</th>\n",
       "      <td>19</td>\n",
       "      <td>5.3</td>\n",
       "    </tr>\n",
       "  </tbody>\n",
       "</table>\n",
       "</div>"
      ],
      "text/plain": [
       "   age  test\n",
       "C    5  16.7\n",
       "D    3   2.0\n",
       "E   19   5.3"
      ]
     },
     "execution_count": 169,
     "metadata": {},
     "output_type": "execute_result"
    }
   ],
   "source": [
    "df[2:5]"
   ]
  },
  {
   "cell_type": "markdown",
   "metadata": {},
   "source": [
    "And an awesome feature – slicing is datetime-aware"
   ]
  },
  {
   "cell_type": "code",
   "execution_count": 179,
   "metadata": {},
   "outputs": [
    {
     "data": {
      "text/plain": [
       "Date\n",
       "2016-03-01    627\n",
       "2016-03-02    519\n",
       "2016-03-03    539\n",
       "2016-03-04    611\n",
       "2016-03-05    629\n",
       "Freq: D, Name: Primary Type, dtype: int64"
      ]
     },
     "execution_count": 179,
     "metadata": {},
     "output_type": "execute_result"
    }
   ],
   "source": [
    "daily_crimes2016['2016-03-01':].head()"
   ]
  },
  {
   "cell_type": "markdown",
   "metadata": {},
   "source": [
    "### "
   ]
  }
 ],
 "metadata": {
  "kernelspec": {
   "display_name": "Python 3",
   "language": "python",
   "name": "python3"
  },
  "language_info": {
   "codemirror_mode": {
    "name": "ipython",
    "version": 3
   },
   "file_extension": ".py",
   "mimetype": "text/x-python",
   "name": "python",
   "nbconvert_exporter": "python",
   "pygments_lexer": "ipython3",
   "version": "3.6.3"
  }
 },
 "nbformat": 4,
 "nbformat_minor": 2
}
